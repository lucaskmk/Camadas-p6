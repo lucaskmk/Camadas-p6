{
 "cells": [
  {
   "cell_type": "code",
   "execution_count": 19,
   "id": "e97e8b28",
   "metadata": {},
   "outputs": [],
   "source": [
    "import numpy as np\n",
    "import matplotlib.pyplot as plt\n",
    "\n",
    "\n",
    "def plot_fft(sinal, fs):\n",
    "    \"\"\"\n",
    "    Plota o gráfico da Transformada de Fourier (FFT) de um sinal.\n",
    "\n",
    "    Parâmetros:\n",
    "    - sinal: lista ou array com os valores do sinal no tempo\n",
    "    - fs: taxa de amostragem em Hz\n",
    "    \"\"\"\n",
    "    # Converter sinal para array NumPy\n",
    "    sinal = np.array(sinal)\n",
    "    \n",
    "    # Número de amostras e vetor de tempo\n",
    "    N = len(sinal)\n",
    "    t = np.arange(N) / fs\n",
    "\n",
    "    # FFT e cálculo da magnitude\n",
    "    fft_result = np.fft.fft(sinal)\n",
    "    freqs = np.fft.fftfreq(N, d=1/fs)\n",
    "    magnitude = np.abs(fft_result)\n",
    "\n",
    "    # Manter só metade do espectro (frequências positivas)\n",
    "    half_N = N // 2\n",
    "    freqs = freqs[:half_N]\n",
    "    magnitude = magnitude[:half_N]\n",
    "\n",
    "    # Plot do sinal no tempo (opcional)\n",
    "    plt.figure(figsize=(12, 4))\n",
    "    plt.subplot(1, 2, 1)\n",
    "    plt.plot(t, sinal)\n",
    "    plt.title(\"Sinal no tempo\")\n",
    "    plt.xlabel(\"Tempo (s)\")\n",
    "    plt.ylabel(\"Amplitude\")\n",
    "    plt.grid(True)\n",
    "\n",
    "    # Plot do espectro de frequência\n",
    "    plt.subplot(1, 2, 2)\n",
    "    plt.stem(freqs, magnitude, basefmt=\" \", use_line_collection=True)\n",
    "    plt.title(\"Transformada de Fourier (FFT)\")\n",
    "    plt.xlabel(\"Frequência (Hz)\")\n",
    "    plt.ylabel(\"Magnitude\")\n",
    "    plt.grid(True)\n"
   ]
  },
  {
   "cell_type": "code",
   "execution_count": null,
   "id": "53bb137c",
   "metadata": {},
   "outputs": [],
   "source": []
  },
  {
   "cell_type": "code",
   "execution_count": null,
   "id": "082a0dfe",
   "metadata": {},
   "outputs": [],
   "source": []
  },
  {
   "cell_type": "code",
   "execution_count": null,
   "id": "057d5109",
   "metadata": {},
   "outputs": [],
   "source": []
  },
  {
   "cell_type": "code",
   "execution_count": null,
   "id": "e7f13b36",
   "metadata": {},
   "outputs": [],
   "source": []
  }
 ],
 "metadata": {
  "kernelspec": {
   "display_name": "Python 3",
   "language": "python",
   "name": "python3"
  },
  "language_info": {
   "codemirror_mode": {
    "name": "ipython",
    "version": 3
   },
   "file_extension": ".py",
   "mimetype": "text/x-python",
   "name": "python",
   "nbconvert_exporter": "python",
   "pygments_lexer": "ipython3",
   "version": "3.10.9"
  }
 },
 "nbformat": 4,
 "nbformat_minor": 5
}
